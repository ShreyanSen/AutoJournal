{
 "cells": [
  {
   "cell_type": "markdown",
   "id": "0bb15774-4010-49b8-a2d0-a607c6d99649",
   "metadata": {},
   "source": [
    "# Planning Notebook\n",
    "\n",
    "\n",
    "Our special autojournal! Not sure why I named it that. Autonomous Journal. Where you're encouraged to just flow maybe? Autonomous writing. And then from there we help you extract structure. All offline, all private.\n",
    "\n",
    "I think there's a couple key features to this product:\n",
    "\n",
    "1. Interactive Mode: where you go back and forth with an AI (probably llm) to deep dive into what's been going on for you. this mode might include something like the AI noticing you're talking about work for example, and asking you to reflect how your relationship with work has changed since for example your last job (ideally informed by past entries, can bring up snippets even) or ideate like what are three possible jobs alter yous would have? The softer version of this doesn't read your past entries but only runs the segmentation algorithm on your completed entry and then prompts a set of \"going deeper\" questions that are more fixed. Including asking you to compare to future and past.\n",
    "2. Segmentation Mode: Basically, want to use semantic / nlp to make tags for each entry. But ideally we're doing joint estimation with past entries. So for example if we know \"crush\" is a frequent tag in the past, it'll be quicker to arise in your entry now. Versus the easier way, semantic segmenting each post independently. Basically equivalent to the tags I try to but suck at maintaining in my own journaling. We would also want the user to be able to hard-code or suggest some tags, and always be able to overwrite or edit what the AI has generated because there are perfectionists out there and there will be mistakes in the tags too.\n",
    "3. Timeline Mode: Based on the generated tags, see a timeline of how those tags are arising an co-interacting. Might even have meta tags like \"mental state: happy\" or \"mental state: confused\" that show that for example when the crush tag came up a lot so did the confusion tag.\n",
    "4. Journal Backup: functionality to lock and store your journal online (just like I do with mine). This is something we can offer as freemium.\n",
    "\n",
    "\n",
    "### Segmentation Mode\n",
    "\n",
    "Basically I think the math would work like, we make word embeddings, and then do fancy principle components in that semantic space. \n",
    "Something like this might do: https://en.wikipedia.org/wiki/Latent_Dirichlet_allocation "
   ]
  }
 ],
 "metadata": {
  "kernelspec": {
   "display_name": "Python 3 (ipykernel)",
   "language": "python",
   "name": "python3"
  },
  "language_info": {
   "codemirror_mode": {
    "name": "ipython",
    "version": 3
   },
   "file_extension": ".py",
   "mimetype": "text/x-python",
   "name": "python",
   "nbconvert_exporter": "python",
   "pygments_lexer": "ipython3",
   "version": "3.9.5"
  }
 },
 "nbformat": 4,
 "nbformat_minor": 5
}
