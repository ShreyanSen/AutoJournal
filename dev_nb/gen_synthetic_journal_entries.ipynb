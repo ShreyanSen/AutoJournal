{
 "cells": [
  {
   "cell_type": "markdown",
   "id": "52c9176a-c25d-4b23-885e-a76b9114083c",
   "metadata": {},
   "source": [
    "# Generating Synthetic Journal Entries\n",
    "\n",
    "\n",
    "In order to show how our journal summarization app works, we'll start by generating synthetic journal entries for somebody for some date range, and writing them in the format that our autojournal app expects. \n",
    "\n",
    "How about we write synthetic entries for a space explorer from the future?\n",
    "\n",
    "First, we'll decide what days he's writing on. We can't expect anyone to write every single day, so we'll model the gaps between days using an exponential distribution (plus some modifications), which is the distribution that describes the gaps in time between a poisson point process. \n",
    "\n",
    "From there, we'll construct a set of dates that master ikkyu is writing on and how many days he's correspondingly been a monk. We'll feed this custom information to our llm alongside a standard set of instructions to guide it in generating a nice variation in journal articles. "
   ]
  },
  {
   "cell_type": "code",
   "execution_count": 82,
   "id": "d3a44ba7-42a9-4318-a905-2c84f37ce042",
   "metadata": {},
   "outputs": [],
   "source": [
    "from langchain_community.llms import Ollama\n",
    "import numpy as np\n",
    "import datetime\n",
    "import time"
   ]
  },
  {
   "cell_type": "code",
   "execution_count": 81,
   "id": "c4e8c652-b58c-4965-a106-50236a882384",
   "metadata": {},
   "outputs": [],
   "source": [
    "class GenSynthJournal:\n",
    "\n",
    "    def __init__(self):\n",
    "\n",
    "        self.get_days_from_first_entry()\n",
    "        self.get_journal_date_strings()\n",
    "        self.get_locations()\n",
    "        #self.get_prompt()\n",
    "\n",
    "        self.llm = Ollama(model=\"llama3\")\n",
    "\n",
    "    def get_days_from_first_entry(self):\n",
    "        num_entries = 100\n",
    "        avg_days_till_next_entry = 5\n",
    "        days_to_entry = np.random.exponential(avg_days_till_next_entry, num_entries)\n",
    "        days_to_entry = days_to_entry.astype(int) # map to integers to get gaps between dates\n",
    "        days_to_entry = np.clip(days_to_entry, 1, 365) # let's avoid multiple entries per date; make the min value 1 and max 365\n",
    "        self.days_from_first_entry = days_to_entry.cumsum()\n",
    "\n",
    "    def get_journal_date_strings(self):\n",
    "        first_date_str = '3020-01-01'\n",
    "        first_date = datetime.datetime.strptime(first_date_str,'%Y-%m-%d')\n",
    "        journal_dates = [first_date + datetime.timedelta(days=int(el)) for el in self.days_from_first_entry]\n",
    "        self.journal_date_strings = [datetime.datetime.strftime(el, '%Y-%m-%d') for el in journal_dates]\n",
    "\n",
    "    def get_locations(self):\n",
    "        location_1 = [\"Zardon, a cold and desolate ice planet. \"]*40\n",
    "        location_2 = [\"Last Call, an unregulated space port open to smugglers. \"] * 10\n",
    "        location_3 = [ \"Myros, a warm water world filled with strange beautiful creatures. \"] * 50\n",
    "        self.locations = location_1 + location_2 + location_3\n",
    "\n",
    "    def get_prompt(self, i):\n",
    "        i_date = self.journal_date_strings[i]\n",
    "        i_days = str(self.days_from_first_entry[i])\n",
    "        i_entry = str(i+1)\n",
    "        i_location = self.locations[i]\n",
    "        \n",
    "        str_1 = \"You are the thoughtful, curious space explorer Battuta sitting down at the end of the day to write a journal entry. The year is \" + i_date + \". \"\n",
    "        str_2 = \"You are writing Battuta's journal number \" + i_entry + \" and it has been \" + i_days + \" days since the first entry. \"\n",
    "        str_3 = \"Your ship's navigational charts indicate your location is \" + i_location\n",
    "        str_4 = \"Please write a short journal entry of what happened to you, space explorer Battuta, today, and what you felt and learned.\"\n",
    "        \n",
    "        prompt_strings = [str_1, str_2, str_3, str_4]\n",
    "        \n",
    "        journal_prompt = ('').join(prompt_strings)\n",
    "        return journal_prompt\n",
    "\n",
    "    def build_journal_db(self, data_dir = \"./data/synth_journal/\"):\n",
    "\n",
    "        for i in range(0, len(self.journal_date_strings)):\n",
    "            print(\"starting run number \" + str(i+1) + \" at \" + time.ctime())\n",
    "            prompt = self.get_prompt(i=i)\n",
    "            response = self.llm(prompt)\n",
    "            jdate = self.journal_date_strings[i]\n",
    "            with open(data_dir + jdate + '.md', 'w') as f:\n",
    "                f.write(\"Date: \")\n",
    "                f.write(jdate + \"\\n\\n\")\n",
    "                f.write(response)\n",
    "                        \n",
    "            \n",
    "            \n",
    "        "
   ]
  },
  {
   "cell_type": "code",
   "execution_count": 53,
   "id": "4cf68d45-47c2-400f-92ad-d158a573fcac",
   "metadata": {},
   "outputs": [
    {
     "data": {
      "text/plain": [
       "array([ 23,  24,  25,  30,  32,  37,  40,  52,  71,  72,  73,  76,  79,\n",
       "        87,  99, 103, 108, 109, 110, 111, 123, 128, 136, 154, 157, 158,\n",
       "       160, 163, 165, 167, 168, 175, 176, 177, 184, 185, 191, 193, 194,\n",
       "       201, 210, 214, 215, 216, 217, 218, 219, 220, 221, 229, 230, 235,\n",
       "       239, 251, 252, 255, 256, 260, 263, 267, 281, 286, 287, 288, 292,\n",
       "       293, 294, 298, 299, 302, 303, 309, 310, 316, 326, 333, 334, 335,\n",
       "       338, 339, 340, 344, 355, 356, 360, 363, 370, 371, 376, 377, 379,\n",
       "       386, 390, 404, 405, 419, 423, 426, 427, 433])"
      ]
     },
     "execution_count": 53,
     "metadata": {},
     "output_type": "execute_result"
    }
   ],
   "source": [
    "num_entries = 100\n",
    "average_days_till_next_entry = 5\n",
    "days_to_entry = np.random.exponential(average_days_till_next_entry, num_entries)\n",
    "days_to_entry = days_to_entry.astype(int) # map to integers to get gaps between dates\n",
    "days_to_entry = np.clip(days_to_entry, 1, 365) # let's avoid multiple entries per date; make the min value 1 and max 365\n",
    "days_from_first_entry = days_to_entry.cumsum()\n",
    "days_from_first_entry"
   ]
  },
  {
   "cell_type": "code",
   "execution_count": 83,
   "id": "b0ca2f79-2832-41b1-9687-da185fb62b17",
   "metadata": {
    "scrolled": true
   },
   "outputs": [
    {
     "data": {
      "text/plain": [
       "['2124-01-24',\n",
       " '2124-01-25',\n",
       " '2124-01-26',\n",
       " '2124-01-31',\n",
       " '2124-02-02',\n",
       " '2124-02-07',\n",
       " '2124-02-10',\n",
       " '2124-02-22',\n",
       " '2124-03-12',\n",
       " '2124-03-13']"
      ]
     },
     "execution_count": 83,
     "metadata": {},
     "output_type": "execute_result"
    }
   ],
   "source": [
    "first_date_str = '2124-01-01'\n",
    "first_date = datetime.datetime.strptime(first_date_str,'%Y-%m-%d')\n",
    "journal_dates = [first_date + datetime.timedelta(days=int(el)) for el in days_from_first_entry]\n",
    "journal_date_strings = [datetime.datetime.strftime(el, '%Y-%m-%d') for el in journal_dates]\n",
    "journal_date_strings[0:10]"
   ]
  },
  {
   "cell_type": "code",
   "execution_count": 84,
   "id": "a30d20e7-5168-41c9-b34b-4e2d17206843",
   "metadata": {},
   "outputs": [],
   "source": [
    "\n",
    "location_1 = [\"Zardon, a cold and desolate ice planet. \"]*40\n",
    "location_2 = [\"Last Call, an unregulated space port open to smugglers. \"] * 10\n",
    "location_3 = [ \"Myros, a warm water world filled with strange beautiful creatures. \"] * 50\n",
    "locations = location_1 + location_2 + location_3"
   ]
  },
  {
   "cell_type": "code",
   "execution_count": 72,
   "id": "ece0085d-1706-4361-87d7-44cbb383072c",
   "metadata": {},
   "outputs": [
    {
     "data": {
      "text/plain": [
       "\"You are the thoughtful, curious space explorer Battuta sitting down at the end of the day to write a journal entry. The year is 1520-01-24. You are writing Battuta's journal number 1 and it has been 23 days since the first entry. Your ship's navigational charts indicate your location is Xlaxos, a black hold said to contain untold cosmic horrors. Please write a short journal entry of what happened to you, space explorer Battuta, today, and what you felt and learned.\""
      ]
     },
     "execution_count": 72,
     "metadata": {},
     "output_type": "execute_result"
    }
   ],
   "source": [
    "\n",
    "i = 0\n",
    "\n",
    "i_date = journal_date_strings[i]\n",
    "i_days = str(days_from_first_entry[i])\n",
    "i_entry = str(i+1)\n",
    "i_location = locations[i]\n",
    "\n",
    "str_1 = \"You are the thoughtful, curious space explorer Battuta sitting down at the end of the day to write a journal entry. The year is \" + i_date + \". \"\n",
    "str_2 = \"You are writing Battuta's journal number \" + i_entry + \" and it has been \" + i_days + \" days since the first entry. \"\n",
    "str_3 = \"Your ship's navigational charts indicate your location is \" + i_location\n",
    "str_4 = \"Please write a short journal entry of what happened to you, space explorer Battuta, today, and what you felt and learned.\"\n",
    "\n",
    "prompt_strings = [str_1, str_2, str_3, str_4]\n",
    "\n",
    "journal_prompt = ('').join(prompt_strings)\n",
    "journal_prompt"
   ]
  },
  {
   "cell_type": "code",
   "execution_count": 65,
   "id": "4a2e2826-b1ae-4b9f-9984-e3dfa55dcff5",
   "metadata": {},
   "outputs": [
    {
     "data": {
      "text/plain": [
       "\"You are the great Zen Master Ikkyu sitting down at the end of the day to write a journal entry. The year is 1520-01-24. You are writing Ikkyu's journal number 1 and it has been 23 days since the first entry.Please write a short journal entry of what happened to you, Zen Master Ikkyu, today, and what you felt and learned.\""
      ]
     },
     "execution_count": 65,
     "metadata": {},
     "output_type": "execute_result"
    }
   ],
   "source": [
    "\n",
    "i = 0\n",
    "\n",
    "i_date = journal_date_strings[i]\n",
    "i_days = str(days_from_first_entry[i])\n",
    "i_entry = str(i+1)\n",
    "\n",
    "\n",
    "str_1 = \"You are the great Zen Master Ikkyu sitting down at the end of the day to write a journal entry. The year is \" + i_date + \". \"\n",
    "str_2 = \"You are writing Ikkyu's journal number \" + i_entry + \" and it has been \" + i_days + \" days since the first entry. \"\n",
    "str_3 = \"Please write a short journal entry of what happened to you, Zen Master Ikkyu, today, and what you felt and learned.\"\n",
    "\n",
    "str_1 = \"You are the great Zen Master Ikkyu sitting down at the end of the day to write a journal entry. The year is \" + i_date + \". \"\n",
    "str_2 = \"You are writing Ikkyu's journal number \" + i_entry + \" and it has been \" + i_days + \" days since the first entry. \"\n",
    "str_3 = \"Please write a short journal entry of what happened to you, Zen Master Ikkyu, today, and what you felt and learned.\"\n",
    "\n",
    "prompt_strings = [str_1, str_2, str_3]\n",
    "\n",
    "journal_prompt = ('').join(prompt_strings)\n",
    "journal_prompt"
   ]
  },
  {
   "cell_type": "code",
   "execution_count": 73,
   "id": "e1777edd-f49c-4af7-b608-9f0b78ae1cc9",
   "metadata": {},
   "outputs": [],
   "source": [
    "llm_obj = Ollama(model=\"llama3\")"
   ]
  },
  {
   "cell_type": "code",
   "execution_count": 74,
   "id": "319a4705-a201-4f39-8f48-8ad402d38419",
   "metadata": {},
   "outputs": [
    {
     "data": {
      "text/plain": [
       "\"**Battuta's Journal Number 1, Entry 23**\\n\\nJanuary 24, 1520\\n\\nAs I set down my pen tonight, my hands still tremble with the aftershocks of this day's discoveries. Xlaxos, the black hold, is a place that defies comprehension. Our charts warned us of its malevolent presence, but nothing could have prepared me for what lies within.\\n\\nWe entered Xlaxos at dawn, our ship's lights piercing the darkness like futile attempts to ward off the unseen. The silence was oppressive, punctuated only by the creaks and groans of our vessel as it strained against some invisible force. My crew and I exchanged nervous glances, sensing that we were not alone.\\n\\nAs we ventured deeper into the hold, the air grew thick with an otherworldly energy. I felt it like a palpable presence, weighing upon my shoulders. The darkness seemed to take on a life of its own, tendrils of shadowy matter reaching out to ensnare us. My crew's apprehension turned to terror as we stumbled upon... things. Twisted, eldritch abominations that defied the laws of physics and sanity.\\n\\nI dare not describe them in detail, lest my words conjure forth some dark, malevolent force from the very fabric of reality. Suffice it to say that our encounter with these horrors has left us shaken to the core. We have seen things that should not exist, and the weight of that knowledge is crushing me.\\n\\nIn the midst of this madness, I found myself drawn to a strange, glowing artifact. It seemed to pulse with an intelligence all its own, calling to me like a beacon in the darkness. I felt an inexplicable connection to it, as if it held the secrets of Xlaxos and the universe beyond. My crew, however, was adamant that we leave this accursed place behind, and so we shall.\\n\\nAs I write these words, I am left with more questions than answers. What lies at the heart of Xlaxos? What dark forces drive these eldritch abominations? And what secrets does that glowing artifact hold?\\n\\nDespite the terror that lingers within me, I am filled with a sense of wonder and awe. The universe is full of mysteries waiting to be unraveled, and I am honored to be a part of this exploration.\\n\\n Tomorrow, we shall depart Xlaxos behind, but the memories of this day will haunt me forevermore.\\n\\n**End of Entry 1**\""
      ]
     },
     "execution_count": 74,
     "metadata": {},
     "output_type": "execute_result"
    }
   ],
   "source": [
    "llm_obj(journal_prompt)"
   ]
  },
  {
   "cell_type": "markdown",
   "id": "4c78ede4-4ac3-4308-ae8d-21fe9b0a025a",
   "metadata": {},
   "source": [
    "### Backfill\n",
    "\n",
    "So we ran the script version of this notebook to generate a journal dataset:\n",
    "\n",
    "python gen_synthetic_journal.py\n",
    "\n",
    "\n",
    "thebn we backfilled smart summaries with the following lines:\n",
    "\n",
    "python backfill_smart_summaries.py -sd 2124-01-01 -ed 2125-01-01 -bfm True"
   ]
  },
  {
   "cell_type": "code",
   "execution_count": null,
   "id": "cf153d84-65d8-4281-9700-f372ebbdb5f3",
   "metadata": {},
   "outputs": [],
   "source": []
  }
 ],
 "metadata": {
  "kernelspec": {
   "display_name": "Python 3 (ipykernel)",
   "language": "python",
   "name": "python3"
  },
  "language_info": {
   "codemirror_mode": {
    "name": "ipython",
    "version": 3
   },
   "file_extension": ".py",
   "mimetype": "text/x-python",
   "name": "python",
   "nbconvert_exporter": "python",
   "pygments_lexer": "ipython3",
   "version": "3.9.5"
  }
 },
 "nbformat": 4,
 "nbformat_minor": 5
}
